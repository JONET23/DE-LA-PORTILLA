{
 "cells": [
  {
   "cell_type": "code",
   "execution_count": 11,
   "metadata": {},
   "outputs": [
    {
     "name": "stdout",
     "output_type": "stream",
     "text": [
      "how many numbers do you want?:4\n",
      "introduce your numbers:6\n",
      "introduce your numbers:8\n",
      "introduce your numbers:7\n",
      "introduce your numbers:3\n",
      " this is the value of mean: 6.0\n",
      "this is the value of deviation: 2.160246899469287\n",
      "this is the value of mode: 6.0\n"
     ]
    }
   ],
   "source": [
    "n = int(input(\"how many numbers do you want?:\"))\n",
    "data = []\n",
    "i = 0\n",
    "while i < n:\n",
    "    d = float(input(\"introduce your numbers:\")) #Agrego todos los elementos a la lista de datos\n",
    "    data.append(d)\n",
    "    i += 1\n",
    "    mean=sum(data)/n  \n",
    "    squares = [] #lista de la suma de los cuadrados de las diferencias entre los datos y el promedio\n",
    "for dato in data:\n",
    "    r = (dato - mean)**2\n",
    "    squares.append(r)\n",
    "deviation = (sum(squares)/(n - 1))**0.5 #fórmula de desviación estándar\n",
    "print(\" this is the value of mean:\",mean)\n",
    "print (\"this is the value of deviation:\", deviation)\n",
    "differentNums={}\n",
    "for x in data:\n",
    "    if x not in differentNums:\n",
    "        differentNums[x]=1\n",
    "    else:\n",
    "        differentNums[x]+=1\n",
    "\n",
    "\n",
    "maxFreq=0\n",
    "mode=0\n",
    "for d in differentNums.keys():\n",
    "    if differentNums[d]>maxFreq:\n",
    "        maxFreq=differentNums[d]\n",
    "        mode=d\n",
    "print(\"this is the value of mode:\",mode)\n"
   ]
  },
  {
   "cell_type": "code",
   "execution_count": null,
   "metadata": {},
   "outputs": [],
   "source": []
  }
 ],
 "metadata": {
  "kernelspec": {
   "display_name": "Python 3",
   "language": "python",
   "name": "python3"
  },
  "language_info": {
   "codemirror_mode": {
    "name": "ipython",
    "version": 3
   },
   "file_extension": ".py",
   "mimetype": "text/x-python",
   "name": "python",
   "nbconvert_exporter": "python",
   "pygments_lexer": "ipython3",
   "version": "3.7.3"
  }
 },
 "nbformat": 4,
 "nbformat_minor": 2
}
